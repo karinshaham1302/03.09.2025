{
 "cells": [
  {
   "cell_type": "code",
   "execution_count": 3,
   "id": "b8348a0b-3336-4475-8f2b-a3711474be71",
   "metadata": {},
   "outputs": [
    {
     "name": "stdout",
     "output_type": "stream",
     "text": [
      "rooms=2 -> predicted price≈ 900.0\n",
      "rooms=3 -> predicted price≈ 1200.0\n",
      "rooms=4 -> predicted price≈ 1500.0\n",
      "rooms=5 -> predicted price≈ 1800.0\n",
      "rooms=6 -> predicted price≈ 2100.0\n",
      "rooms=7 -> predicted price≈ 2400.0\n",
      "rooms=8 -> predicted price≈ 2700.0\n",
      "\n",
      "Price for 5.5 rooms ≈ 1950.0\n"
     ]
    }
   ],
   "source": [
    "# 1. linear\n",
    "\n",
    "import numpy as np\n",
    "import tensorflow as tf\n",
    "from tensorflow.keras import Sequential, Input\n",
    "from tensorflow.keras.layers import Dense\n",
    "from sklearn.preprocessing import StandardScaler\n",
    "\n",
    "# ----- data -----\n",
    "# X = rooms, y = price\n",
    "X = np.array([[2],[3],[4],[5],[6],[7],[8]], dtype=float)\n",
    "y = np.array([900,1200,1500,1800,2100,2400,2700], dtype=float).reshape(-1,1)\n",
    "\n",
    "# ----- scale X and y -----\n",
    "x_scaler = StandardScaler()\n",
    "y_scaler = StandardScaler()\n",
    "X_s = x_scaler.fit_transform(X)\n",
    "y_s = y_scaler.fit_transform(y)\n",
    "\n",
    "# ----- ANN: linear regression as a tiny net -----\n",
    "tf.random.set_seed(42)\n",
    "model = Sequential([Input(shape=(1,)), Dense(1, activation='linear')])\n",
    "model.compile(optimizer=tf.keras.optimizers.Adam(learning_rate=0.05), loss='mse')\n",
    "model.fit(X_s, y_s, epochs=800, verbose=0)\n",
    "\n",
    "# predictions on train (sanity check)\n",
    "pred_s = model.predict(X_s, verbose=0)\n",
    "pred = y_scaler.inverse_transform(pred_s)\n",
    "for r, p in zip(X.ravel(), pred.ravel()):\n",
    "    print(f\"rooms={int(r)} -> predicted price≈ {p:.1f}\")\n",
    "\n",
    "# ----- price for rooms=5.5 -----\n",
    "x_target_s = x_scaler.transform([[5.5]])[0,0]   # scale input (rooms)\n",
    "w, b = model.layers[0].get_weights()\n",
    "w = float(w[0,0]); b = float(b[0])\n",
    "y_needed_s = w * x_target_s + b                 # price (scaled)\n",
    "price_needed = float(y_scaler.inverse_transform([[y_needed_s]])[0,0])\n",
    "print(f\"\\nPrice for 5.5 rooms ≈ {price_needed:.1f}\")"
   ]
  },
  {
   "cell_type": "code",
   "execution_count": 1,
   "id": "8c766b14-f5ad-4b69-a8d6-4547e940e173",
   "metadata": {},
   "outputs": [
    {
     "name": "stdout",
     "output_type": "stream",
     "text": [
      "Predicted probabilities: [0.024 0.066 0.166 0.36  0.613 0.818 0.927 0.973 0.99  0.997]\n",
      "Predicted classes: [0 0 0 0 1 1 1 1 1 1]\n",
      "\n",
      "Probability for 6.5 years ≈ 0.883\n"
     ]
    }
   ],
   "source": [
    "# 2. logistic\n",
    "\n",
    "import numpy as np\n",
    "import tensorflow as tf\n",
    "from tensorflow.keras import Sequential\n",
    "from tensorflow.keras.layers import Dense\n",
    "from sklearn.preprocessing import StandardScaler\n",
    "\n",
    "# ----- data -----\n",
    "X = np.array([1,2,3,4,5,6,7,8,9,10], dtype=float).reshape(-1, 1)\n",
    "y = np.array([0,0,0,0,1,1,1,1,1,1], dtype=float).reshape(-1, 1)\n",
    "\n",
    "# scale input\n",
    "scaler = StandardScaler()\n",
    "X_s = scaler.fit_transform(X)\n",
    "\n",
    "# ----- ANN: single neuron sigmoid -----\n",
    "model = Sequential([Dense(1, activation='sigmoid')])\n",
    "model.compile(optimizer='adam', loss='binary_crossentropy', metrics=['accuracy'])\n",
    "\n",
    "# train\n",
    "model.fit(X_s, y, epochs=2000, verbose=0)\n",
    "\n",
    "# ----- predictions -----\n",
    "probs = model.predict(X_s, verbose=0)\n",
    "preds = (probs > 0.5).astype(int)\n",
    "\n",
    "print(\"Predicted probabilities:\", np.round(probs.ravel(), 3))\n",
    "print(\"Predicted classes:\", preds.ravel())\n",
    "\n",
    "# ----- probability for years=6.5 -----\n",
    "x_new = np.array([[6.5]], dtype=float)\n",
    "x_new_s = scaler.transform(x_new)\n",
    "p_new = float(model.predict(x_new_s, verbose=0)[0,0])\n",
    "print(f\"\\nProbability for 6.5 years ≈ {p_new:.3f}\")"
   ]
  }
 ],
 "metadata": {
  "kernelspec": {
   "display_name": "Python 3 (ipykernel)",
   "language": "python",
   "name": "python3"
  },
  "language_info": {
   "codemirror_mode": {
    "name": "ipython",
    "version": 3
   },
   "file_extension": ".py",
   "mimetype": "text/x-python",
   "name": "python",
   "nbconvert_exporter": "python",
   "pygments_lexer": "ipython3",
   "version": "3.12.7"
  }
 },
 "nbformat": 4,
 "nbformat_minor": 5
}
